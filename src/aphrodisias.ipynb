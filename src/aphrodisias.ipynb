{
 "cells": [
  {
   "cell_type": "markdown",
   "metadata": {},
   "source": [
    "# Aphrodisias analysis notebook\n"
   ]
  },
  {
   "cell_type": "code",
   "execution_count": 1,
   "metadata": {},
   "outputs": [],
   "source": [
    "from pathlib import Path\n",
    "\n",
    "import pygeoprocessing\n",
    "from osgeo import gdal\n",
    "import statistics\n",
    "import math\n",
    "import numpy as np\n",
    "import rasterio as rio\n",
    "from rasterio.windows import from_bounds\n",
    "from shapely.geometry import Polygon \n"
   ]
  },
  {
   "cell_type": "markdown",
   "metadata": {},
   "source": [
    "### Defining input datasets"
   ]
  },
  {
   "cell_type": "code",
   "execution_count": 3,
   "metadata": {},
   "outputs": [],
   "source": [
    "gis_folder = Path(r\"C:\\Users\\lizad\\OneDrive\\Desktop\\Brown\\Dissertation\\GIS\")\n",
    "\n",
    "dem_raster_path = gis_folder / \"DEM_UTM_35N.tif\"\n",
    "dem_raster_info = pygeoprocessing.get_raster_info(str(dem_raster_path))\n",
    "\n",
    "slope_raster_path = gis_folder / \"slope_35N.tif\"\n",
    "tri_raster_path = gis_folder / \"tri_35N.tif\"\n",
    "landcover_raster_path = gis_folder / \"landcover_35N.tif\"\n",
    "\n",
    "church_vector_path = gis_folder / \"churches_35N.gpkg\"\n",
    "city_center_vector_path = gis_folder / \"center_35N.gpkg\"\n",
    "\n",
    "church_raster_path = gis_folder / \"churches_35N.tif\"\n",
    "city_center_raster_path = gis_folder / \"center_35N.tif\""
   ]
  },
  {
   "cell_type": "markdown",
   "metadata": {},
   "source": [
    "### Rasterizing Churches to match the DEM"
   ]
  },
  {
   "cell_type": "code",
   "execution_count": 3,
   "metadata": {},
   "outputs": [],
   "source": [
    "# Create and burn church locations\n",
    "if not church_raster_path.exists:\n",
    "    pygeoprocessing.new_raster_from_base(\n",
    "        str(dem_raster_path),\n",
    "        str(church_raster_path),\n",
    "        gdal.GDT_Byte,\n",
    "        [0],\n",
    "    )\n",
    "    pygeoprocessing.rasterize(\n",
    "    str(church_vector_path),\n",
    "    str(church_raster_path),\n",
    "    [1],\n",
    "    )"
   ]
  },
  {
   "cell_type": "markdown",
   "metadata": {},
   "source": [
    "### Rasterizing city center to match the DEM"
   ]
  },
  {
   "cell_type": "code",
   "execution_count": 4,
   "metadata": {},
   "outputs": [],
   "source": [
    "# Create and burn city center\n",
    "if not city_center_raster_path.exists:\n",
    "    pygeoprocessing.new_raster_from_base(\n",
    "        str(dem_raster_path),\n",
    "        str(city_center_raster_path),\n",
    "        gdal.GDT_Byte,\n",
    "        [0],\n",
    "    )\n",
    "    pygeoprocessing.rasterize(\n",
    "    str(city_center_vector_path),\n",
    "    str(city_center_raster_path),\n",
    "        [1],\n",
    "    )"
   ]
  },
  {
   "cell_type": "markdown",
   "metadata": {},
   "source": [
    "### Calculate slope and Terrain Ruggedness Index from DEM"
   ]
  },
  {
   "cell_type": "code",
   "execution_count": 5,
   "metadata": {},
   "outputs": [],
   "source": [
    "slope_gdal_ds = gdal.DEMProcessing(str(slope_raster_path), str(dem_raster_path), \"slope\")\n",
    "del slope_gdal_ds\n",
    "\n",
    "# pygeoprocessing.calculate_slope((str(dem_raster_path), 1), str(slope_raster_path))\n",
    "\n",
    "tri_gdal_ds = gdal.DEMProcessing(str(tri_raster_path), str(dem_raster_path), \"tri\")\n",
    "del tri_gdal_ds"
   ]
  },
  {
   "cell_type": "markdown",
   "metadata": {},
   "source": [
    "### Normalize input datasets"
   ]
  },
  {
   "cell_type": "code",
   "execution_count": null,
   "metadata": {},
   "outputs": [],
   "source": [
    "#Align and clip landscape data to DEM extent\n",
    "dem_raster_info = pygeoprocessing.get_raster_info(str(dem_raster_path))\n",
    "dem_raster_clip = gis_folder / \"DEM_UTM_35N_clip.tif\"\n",
    "landcover_raster_clip = gis_folder / \"landcover_35N_clip.tif\"\n",
    "slope_raster_clip = gis_folder / \"slope_35N_clip.tif\"\n",
    "tri_raster_clip = gis_folder / \"tri_35N_clip.tif\"\n",
    "\n",
    "pygeoprocessing.align_and_resize_raster_stack(\n",
    "    [str(dem_raster_path), str(landcover_raster_path), str(slope_raster_path), str(tri_raster_path)],\n",
    "    [str(dem_raster_clip), str(landcover_raster_clip), str(slope_raster_clip), str(tri_raster_clip)],\n",
    "    [\"near\", \"near\"],\n",
    "    dem_raster_info[\"pixel_size\"],\n",
    "    dem_raster_info[\"bounding_box\"],\n",
    "    raster_align_index=0,\n",
    ")"
   ]
  },
  {
   "cell_type": "markdown",
   "metadata": {},
   "source": [
    "### Reclassify landcover into cost surface"
   ]
  },
  {
   "cell_type": "code",
   "execution_count": null,
   "metadata": {},
   "outputs": [],
   "source": []
  },
  {
   "cell_type": "markdown",
   "metadata": {},
   "source": [
    "### Calculate Tobler's hiking function"
   ]
  },
  {
   "cell_type": "code",
   "execution_count": 44,
   "metadata": {},
   "outputs": [
    {
     "name": "stderr",
     "output_type": "stream",
     "text": [
      "C:\\Users\\lizad\\AppData\\Local\\Temp\\ipykernel_111576\\3273824899.py:12: RuntimeWarning: divide by zero encountered in divide\n",
      "  result = (slope_cell_resolution/1000)/(6*np.exp(-3.5*np.abs(slope+0.05)))\n",
      "C:\\Users\\lizad\\AppData\\Local\\Temp\\ipykernel_111576\\3273824899.py:12: RuntimeWarning: overflow encountered in divide\n",
      "  result = (slope_cell_resolution/1000)/(6*np.exp(-3.5*np.abs(slope+0.05)))\n"
     ]
    }
   ],
   "source": [
    "tobler_surface = gis_folder / \"tobler_surface.tif\"\n",
    "\n",
    "slope_raster_info = pygeoprocessing.get_raster_info(str(slope_raster_path))\n",
    "slope_cell_resolution = statistics.mean([abs(x) for x in slope_raster_info[\"pixel_size\"]])\n",
    "\n",
    "slope_array = pygeoprocessing.raster_to_numpy_array(str(slope_raster_path))\n",
    "\n",
    "# def tobler_op(slope):\n",
    "#     result = (slope_cell_resolution/1000)/(6*math.exp(-3.5*abs(math.tan(slope*math.pi/180)+0.05)))\n",
    "#     return result\n",
    "def tobler_op(slope):\n",
    "    result = (slope_cell_resolution/1000)/(6*np.exp(-3.5*np.abs(slope+0.05)))\n",
    "    return result\n",
    "tobler_op_vectorized = np.vectorize(tobler_op)\n",
    "# test_array = tobler_op_vectorized(slope_array)\n",
    "\n",
    "pygeoprocessing.raster_map(\n",
    "    tobler_op,\n",
    "    [str(slope_raster_path)],\n",
    "    str(tobler_surface),\n",
    ")"
   ]
  },
  {
   "cell_type": "markdown",
   "metadata": {},
   "source": [
    "### Calculate combined friction surface using raster calculator"
   ]
  },
  {
   "cell_type": "code",
   "execution_count": null,
   "metadata": {},
   "outputs": [],
   "source": [
    "friction_surface = gis_folder / \"friction_surface.tif\"\n",
    "\n",
    "file_list = [\n",
    "    str(friction_surface),\n",
    "    str(friction_surface_1),\n",
    "    str(friction_surface_2)\n",
    "]\n",
    "\n",
    "def friction_op(slope, vegetation):\n",
    "    result = slope*0.8 + vegetation*2\n",
    "    return result\n",
    "\n",
    "if not friction_surface.exists():\n",
    "    pygeoprocessing.raster_calculator(\n",
    "        file_list,\n",
    "        friction_op,\n",
    "        str(friction_surface),\n",
    "        gdal.GDT_Float32,\n",
    "        -1,\n",
    "    )"
   ]
  }
 ],
 "metadata": {
  "kernelspec": {
   "display_name": "gis",
   "language": "python",
   "name": "python3"
  },
  "language_info": {
   "codemirror_mode": {
    "name": "ipython",
    "version": 3
   },
   "file_extension": ".py",
   "mimetype": "text/x-python",
   "name": "python",
   "nbconvert_exporter": "python",
   "pygments_lexer": "ipython3",
   "version": "3.12.7"
  }
 },
 "nbformat": 4,
 "nbformat_minor": 2
}
