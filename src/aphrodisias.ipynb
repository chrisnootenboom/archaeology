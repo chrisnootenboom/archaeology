{
 "cells": [
  {
   "cell_type": "markdown",
   "metadata": {},
   "source": [
    "# Aphrodisias analysis notebook\n"
   ]
  },
  {
   "cell_type": "code",
   "execution_count": 2,
   "metadata": {},
   "outputs": [],
   "source": [
    "from pathlib import Path\n",
    "\n",
    "import pygeoprocessing\n",
    "from osgeo import gdal\n",
    "import statistics\n",
    "import math\n",
    "import numpy as np\n",
    "import pandas as pd\n",
    "import rasterio as rio\n",
    "from rasterio.windows import from_bounds\n",
    "from shapely.geometry import Polygon \n"
   ]
  },
  {
   "cell_type": "markdown",
   "metadata": {},
   "source": [
    "### Defining input datasets"
   ]
  },
  {
   "cell_type": "code",
   "execution_count": 3,
   "metadata": {},
   "outputs": [],
   "source": [
    "gis_folder = Path(r\"C:\\Users\\lizad\\OneDrive\\Desktop\\Brown\\Dissertation\\GIS\")\n",
    "\n",
    "dem_raster_path = gis_folder / \"DEM_UTM_35N.tif\"\n",
    "dem_raster_info = pygeoprocessing.get_raster_info(str(dem_raster_path))\n",
    "\n",
    "slope_raster_path = gis_folder / \"slope_35N.tif\"\n",
    "tri_raster_path = gis_folder / \"tri_35N.tif\"\n",
    "landcover_raster_path = gis_folder / \"landcover_35N.tif\"\n",
    "\n",
    "church_vector_path = gis_folder / \"churches_35N.gpkg\"\n",
    "city_center_vector_path = gis_folder / \"center_35N.gpkg\"\n",
    "\n",
    "church_raster_path = gis_folder / \"churches_35N.tif\"\n",
    "city_center_raster_path = gis_folder / \"center_35N.tif\""
   ]
  },
  {
   "cell_type": "markdown",
   "metadata": {},
   "source": [
    "### Rasterizing Churches to match the DEM"
   ]
  },
  {
   "cell_type": "code",
   "execution_count": 3,
   "metadata": {},
   "outputs": [],
   "source": [
    "# Create and burn church locations\n",
    "if not church_raster_path.exists:\n",
    "    pygeoprocessing.new_raster_from_base(\n",
    "        str(dem_raster_path),\n",
    "        str(church_raster_path),\n",
    "        gdal.GDT_Byte,\n",
    "        [0],\n",
    "    )\n",
    "    pygeoprocessing.rasterize(\n",
    "    str(church_vector_path),\n",
    "    str(church_raster_path),\n",
    "    [1],\n",
    "    )"
   ]
  },
  {
   "cell_type": "markdown",
   "metadata": {},
   "source": [
    "### Rasterizing city center to match the DEM"
   ]
  },
  {
   "cell_type": "code",
   "execution_count": 4,
   "metadata": {},
   "outputs": [],
   "source": [
    "# Create and burn city center\n",
    "if not city_center_raster_path.exists:\n",
    "    pygeoprocessing.new_raster_from_base(\n",
    "        str(dem_raster_path),\n",
    "        str(city_center_raster_path),\n",
    "        gdal.GDT_Byte,\n",
    "        [0],\n",
    "    )\n",
    "    pygeoprocessing.rasterize(\n",
    "    str(city_center_vector_path),\n",
    "    str(city_center_raster_path),\n",
    "        [1],\n",
    "    )"
   ]
  },
  {
   "cell_type": "markdown",
   "metadata": {},
   "source": [
    "### Calculate slope and Terrain Ruggedness Index from DEM"
   ]
  },
  {
   "cell_type": "code",
   "execution_count": 5,
   "metadata": {},
   "outputs": [],
   "source": [
    "slope_gdal_ds = gdal.DEMProcessing(str(slope_raster_path), str(dem_raster_path), \"slope\")\n",
    "del slope_gdal_ds\n",
    "\n",
    "# pygeoprocessing.calculate_slope((str(dem_raster_path), 1), str(slope_raster_path))\n",
    "\n",
    "tri_gdal_ds = gdal.DEMProcessing(str(tri_raster_path), str(dem_raster_path), \"tri\")\n",
    "del tri_gdal_ds"
   ]
  },
  {
   "cell_type": "markdown",
   "metadata": {},
   "source": [
    "### Normalize input datasets"
   ]
  },
  {
   "cell_type": "code",
   "execution_count": 8,
   "metadata": {},
   "outputs": [],
   "source": [
    "#Align and clip landscape data to DEM extent\n",
    "dem_raster_info = pygeoprocessing.get_raster_info(str(dem_raster_path))\n",
    "dem_raster_clip = gis_folder / \"DEM_UTM_35N_clip.tif\"\n",
    "landcover_raster_clip = gis_folder / \"landcover_35N_clip.tif\"\n",
    "slope_raster_clip = gis_folder / \"slope_35N_clip.tif\"\n",
    "tri_raster_clip = gis_folder / \"tri_35N_clip.tif\"\n",
    "\n",
    "pygeoprocessing.align_and_resize_raster_stack(\n",
    "    [str(dem_raster_path), str(landcover_raster_path), str(slope_raster_path), str(tri_raster_path)],\n",
    "    [str(dem_raster_clip), str(landcover_raster_clip), str(slope_raster_clip), str(tri_raster_clip)],\n",
    "    [\"near\", \"near\", \"near\", \"near\"],\n",
    "    dem_raster_info[\"pixel_size\"],\n",
    "    dem_raster_info[\"bounding_box\"],\n",
    "    raster_align_index=0,\n",
    ")"
   ]
  },
  {
   "cell_type": "markdown",
   "metadata": {},
   "source": [
    "### Reclassify slope into cost surface"
   ]
  },
  {
   "cell_type": "code",
   "execution_count": null,
   "metadata": {},
   "outputs": [],
   "source": [
    "slope_cost = gis_folder / \"slope_cost.tif\"\n"
   ]
  },
  {
   "cell_type": "markdown",
   "metadata": {},
   "source": [
    "### Reclassify landcover into cost surface"
   ]
  },
  {
   "cell_type": "code",
   "execution_count": 10,
   "metadata": {},
   "outputs": [],
   "source": [
    "reclass_df = pd.read_csv(\"./data/esa_worldcover_classification.csv\")\n",
    "cost_value = \"cost_value\"\n",
    "landcover_reclass = gis_folder / \"landcover_reclass.tif\"\n",
    "\n",
    "reclass_dict = reclass_df.set_index(\"lucode\").to_dict()[cost_value]\n",
    "\n",
    "pygeoprocessing.reclassify_raster(\n",
    "    (str(landcover_raster_clip),1),\n",
    "    reclass_dict,\n",
    "    str(landcover_reclass),\n",
    "    gdal.GDT_Float32,\n",
    "    -9999,\n",
    ")"
   ]
  },
  {
   "cell_type": "markdown",
   "metadata": {},
   "source": [
    "### Create multicriteria cost surface"
   ]
  },
  {
   "cell_type": "code",
   "execution_count": null,
   "metadata": {},
   "outputs": [],
   "source": [
    "cost_surface = gis_folder / \"cost_surface.tif\"\n",
    "\n",
    "def weighted_average_op(slope_array, lulc_cost_array, tri_array, slope_weight, lulc_cost_weight, tri_weight):\n",
    "    result = ((slope_array*slope_weight) + (lulc_cost_array*lulc_cost_weight) + (tri_array*tri_weight)) / (slope_weight+lulc_cost_weight+tri_weight)\n",
    "    return result \n",
    "\n",
    "pygeoprocessing.raster_calculator(\n",
    "    [(str(slop),1),(2,\"raw\")]\n",
    ")"
   ]
  },
  {
   "cell_type": "markdown",
   "metadata": {},
   "source": [
    "### Calculate Tobler's hiking function"
   ]
  },
  {
   "cell_type": "code",
   "execution_count": 13,
   "metadata": {},
   "outputs": [
    {
     "ename": "TypeError",
     "evalue": "only length-1 arrays can be converted to Python scalars",
     "output_type": "error",
     "traceback": [
      "\u001b[1;31m---------------------------------------------------------------------------\u001b[0m",
      "\u001b[1;31mTypeError\u001b[0m                                 Traceback (most recent call last)",
      "Cell \u001b[1;32mIn[13], line 14\u001b[0m\n\u001b[0;32m      8\u001b[0m     \u001b[38;5;28;01mreturn\u001b[39;00m result\n\u001b[0;32m      9\u001b[0m \u001b[38;5;66;03m# def tobler_op(slope):\u001b[39;00m\n\u001b[0;32m     10\u001b[0m \u001b[38;5;66;03m#     result = (slope_cell_resolution/1000)/(6*np.exp(-3.5*np.abs(slope+0.05)))\u001b[39;00m\n\u001b[0;32m     11\u001b[0m \u001b[38;5;66;03m#     return result\u001b[39;00m\n\u001b[1;32m---> 14\u001b[0m \u001b[43mpygeoprocessing\u001b[49m\u001b[38;5;241;43m.\u001b[39;49m\u001b[43mraster_calculator\u001b[49m\u001b[43m(\u001b[49m\n\u001b[0;32m     15\u001b[0m \u001b[43m    \u001b[49m\u001b[43m[\u001b[49m\u001b[43m(\u001b[49m\u001b[38;5;28;43mstr\u001b[39;49m\u001b[43m(\u001b[49m\u001b[43mslope_raster_clip\u001b[49m\u001b[43m)\u001b[49m\u001b[43m,\u001b[49m\u001b[38;5;241;43m1\u001b[39;49m\u001b[43m)\u001b[49m\u001b[43m]\u001b[49m\u001b[43m,\u001b[49m\u001b[43m \u001b[49m\n\u001b[0;32m     16\u001b[0m \u001b[43m    \u001b[49m\u001b[43mtobler_op\u001b[49m\u001b[43m,\u001b[49m\n\u001b[0;32m     17\u001b[0m \u001b[43m    \u001b[49m\u001b[38;5;28;43mstr\u001b[39;49m\u001b[43m(\u001b[49m\u001b[43mtobler_surface\u001b[49m\u001b[43m)\u001b[49m\u001b[43m,\u001b[49m\n\u001b[0;32m     18\u001b[0m \u001b[43m    \u001b[49m\u001b[43mgdal\u001b[49m\u001b[38;5;241;43m.\u001b[39;49m\u001b[43mGDT_Float32\u001b[49m\u001b[43m,\u001b[49m\n\u001b[0;32m     19\u001b[0m \u001b[43m    \u001b[49m\u001b[38;5;241;43m-\u001b[39;49m\u001b[38;5;241;43m9999\u001b[39;49m\u001b[43m,\u001b[49m\n\u001b[0;32m     20\u001b[0m \u001b[43m)\u001b[49m\n",
      "File \u001b[1;32msrc/pygeoprocessing/geoprocessing_core.pyx:77\u001b[0m, in \u001b[0;36mpygeoprocessing.geoprocessing_core.gdal_use_exceptions.wrapper\u001b[1;34m()\u001b[0m\n",
      "File \u001b[1;32msrc/pygeoprocessing/geoprocessing_core.pyx:78\u001b[0m, in \u001b[0;36mpygeoprocessing.geoprocessing_core.gdal_use_exceptions.wrapper\u001b[1;34m()\u001b[0m\n",
      "File \u001b[1;32mc:\\Users\\lizad\\miniconda3\\envs\\gis\\Lib\\site-packages\\pygeoprocessing\\geoprocessing.py:476\u001b[0m, in \u001b[0;36mraster_calculator\u001b[1;34m(base_raster_path_band_const_list, local_op, target_raster_path, datatype_target, nodata_target, calc_raster_stats, use_shared_memory, largest_block, max_timeout, raster_driver_creation_tuple)\u001b[0m\n\u001b[0;32m    472\u001b[0m     \u001b[38;5;28;01melse\u001b[39;00m:\n\u001b[0;32m    473\u001b[0m         \u001b[38;5;66;03m# must be a raw tuple\u001b[39;00m\n\u001b[0;32m    474\u001b[0m         data_blocks\u001b[38;5;241m.\u001b[39mappend(value[\u001b[38;5;241m0\u001b[39m])\n\u001b[1;32m--> 476\u001b[0m target_block \u001b[38;5;241m=\u001b[39m \u001b[43mlocal_op\u001b[49m\u001b[43m(\u001b[49m\u001b[38;5;241;43m*\u001b[39;49m\u001b[43mdata_blocks\u001b[49m\u001b[43m)\u001b[49m\n\u001b[0;32m    478\u001b[0m \u001b[38;5;28;01mif\u001b[39;00m (\u001b[38;5;129;01mnot\u001b[39;00m \u001b[38;5;28misinstance\u001b[39m(target_block, numpy\u001b[38;5;241m.\u001b[39mndarray) \u001b[38;5;129;01mor\u001b[39;00m\n\u001b[0;32m    479\u001b[0m         target_block\u001b[38;5;241m.\u001b[39mshape \u001b[38;5;241m!=\u001b[39m blocksize):\n\u001b[0;32m    480\u001b[0m     \u001b[38;5;28;01mraise\u001b[39;00m \u001b[38;5;167;01mValueError\u001b[39;00m(\n\u001b[0;32m    481\u001b[0m         \u001b[38;5;124m\"\u001b[39m\u001b[38;5;124mExpected `local_op` to return a numpy.ndarray of \u001b[39m\u001b[38;5;124m\"\u001b[39m\n\u001b[0;32m    482\u001b[0m         \u001b[38;5;124m\"\u001b[39m\u001b[38;5;124mshape \u001b[39m\u001b[38;5;132;01m%s\u001b[39;00m\u001b[38;5;124m but got this instead: \u001b[39m\u001b[38;5;132;01m%s\u001b[39;00m\u001b[38;5;124m\"\u001b[39m \u001b[38;5;241m%\u001b[39m (\n\u001b[0;32m    483\u001b[0m             blocksize, target_block))\n",
      "Cell \u001b[1;32mIn[13], line 7\u001b[0m, in \u001b[0;36mtobler_op\u001b[1;34m(slope)\u001b[0m\n\u001b[0;32m      6\u001b[0m \u001b[38;5;28;01mdef\u001b[39;00m \u001b[38;5;21mtobler_op\u001b[39m(slope):\n\u001b[1;32m----> 7\u001b[0m     result \u001b[38;5;241m=\u001b[39m (slope_cell_resolution\u001b[38;5;241m/\u001b[39m\u001b[38;5;241m1000\u001b[39m)\u001b[38;5;241m/\u001b[39m(\u001b[38;5;241m6\u001b[39m\u001b[38;5;241m*\u001b[39mmath\u001b[38;5;241m.\u001b[39mexp(\u001b[38;5;241m-\u001b[39m\u001b[38;5;241m3.5\u001b[39m\u001b[38;5;241m*\u001b[39mnp\u001b[38;5;241m.\u001b[39mabs(\u001b[43mmath\u001b[49m\u001b[38;5;241;43m.\u001b[39;49m\u001b[43mtan\u001b[49m\u001b[43m(\u001b[49m\u001b[43mslope\u001b[49m\u001b[38;5;241;43m*\u001b[39;49m\u001b[43mmath\u001b[49m\u001b[38;5;241;43m.\u001b[39;49m\u001b[43mpi\u001b[49m\u001b[38;5;241;43m/\u001b[39;49m\u001b[38;5;241;43m180\u001b[39;49m\u001b[43m)\u001b[49m\u001b[38;5;241m+\u001b[39m\u001b[38;5;241m0.05\u001b[39m)))\n\u001b[0;32m      8\u001b[0m     \u001b[38;5;28;01mreturn\u001b[39;00m result\n",
      "\u001b[1;31mTypeError\u001b[0m: only length-1 arrays can be converted to Python scalars"
     ]
    }
   ],
   "source": [
    "tobler_surface = gis_folder / \"tobler_surface.tif\"\n",
    "\n",
    "slope_raster_info = pygeoprocessing.get_raster_info(str(slope_raster_clip))\n",
    "slope_cell_resolution = statistics.mean([abs(x) for x in slope_raster_info[\"pixel_size\"]])\n",
    "\n",
    "def tobler_op(slope):\n",
    "    result = (slope_cell_resolution/1000)/(6*math.exp(-3.5*np.abs(math.tan(slope*math.pi/180)+0.05)))\n",
    "    return result\n",
    "# def tobler_op(slope):\n",
    "#     result = (slope_cell_resolution/1000)/(6*np.exp(-3.5*np.abs(slope+0.05)))\n",
    "#     return result\n",
    "\n",
    "\n",
    "pygeoprocessing.raster_calculator(\n",
    "    [(str(slope_raster_clip),1)], \n",
    "    tobler_op,\n",
    "    str(tobler_surface),\n",
    "    gdal.GDT_Float32,\n",
    "    -9999,\n",
    ")"
   ]
  },
  {
   "cell_type": "markdown",
   "metadata": {},
   "source": [
    "### Calculate combined friction surface using raster calculator"
   ]
  },
  {
   "cell_type": "code",
   "execution_count": null,
   "metadata": {},
   "outputs": [],
   "source": [
    "friction_surface = gis_folder / \"friction_surface.tif\"\n",
    "\n",
    "file_list = [\n",
    "    str(friction_surface),\n",
    "    str(friction_surface_1),\n",
    "    str(friction_surface_2)\n",
    "]\n",
    "\n",
    "def friction_op(slope, vegetation):\n",
    "    result = slope*0.8 + vegetation*2\n",
    "    return result\n",
    "\n",
    "if not friction_surface.exists():\n",
    "    pygeoprocessing.raster_calculator(\n",
    "        file_list,\n",
    "        friction_op,\n",
    "        str(friction_surface),\n",
    "        gdal.GDT_Float32,\n",
    "        -1,\n",
    "    )"
   ]
  }
 ],
 "metadata": {
  "kernelspec": {
   "display_name": "gis",
   "language": "python",
   "name": "python3"
  },
  "language_info": {
   "codemirror_mode": {
    "name": "ipython",
    "version": 3
   },
   "file_extension": ".py",
   "mimetype": "text/x-python",
   "name": "python",
   "nbconvert_exporter": "python",
   "pygments_lexer": "ipython3",
   "version": "3.12.7"
  }
 },
 "nbformat": 4,
 "nbformat_minor": 2
}
